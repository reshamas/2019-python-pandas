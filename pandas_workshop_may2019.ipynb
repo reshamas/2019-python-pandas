{
 "cells": [
  {
   "cell_type": "markdown",
   "metadata": {},
   "source": [
    "# PyLadies Data Analysis Lab @ Flatiron Health, May 2019\n",
    "\n",
    "Workshop lead: Sam Bail, Twitter @spbail"
   ]
  },
  {
   "cell_type": "markdown",
   "metadata": {},
   "source": [
    "# Overview\n",
    "The goal of this workshop is to give learners an intro to data analysis with Python using Pandas and Jupyter. \n",
    "We will first go through the process of loading data from CSV files, inspecting and cleaning the data. As a second step, we will analyse the data and draw some insights about cancer treatment from it. \n",
    "\n",
    "The tutorial is structured as follows:\n",
    "\n",
    "- Part 0: Setup\n",
    "- Part 1: Loading and inspecting data\n",
    "- Part 2: Data cleaning\n",
    "- Part 3: Data analysis\n",
    "- Part 4: Summary\n",
    "\n",
    "**Note that this tutorial is only intended as an introduction to some basic concepts of Pandas. It is in no means intended to be comprehensive, and there are a lot of useful functions a beginner needs to know to do in-depth data analysis. We hope that this tutorial sets you up for self-guided learning to master the full range of necessary Pandas tools.**"
   ]
  },
  {
   "cell_type": "markdown",
   "metadata": {},
   "source": [
    "# Part 0: Setup\n",
    "\n",
    "Make sure you have the following up and running on your laptop:\n",
    "- A working python 3 environment\n",
    "- Working installations of jupyter, pandas, matplotlib, seaborn (use `pip install` to install them)\n",
    "- With your python environment activated, open a terminal and run `jupyter notebook` to start up the notebook server\n",
    "- Then go to \"New\" to create a new notebook and you're ready to start the tutorial!"
   ]
  },
  {
   "cell_type": "markdown",
   "metadata": {},
   "source": [
    "## Imports\n",
    "\n",
    "To complete this assignment we will use the Pandas data analysis library, with the Seaborn library for visualization."
   ]
  },
  {
   "cell_type": "code",
   "execution_count": 1,
   "metadata": {},
   "outputs": [],
   "source": [
    "import pandas as pd\n",
    "import matplotlib.pyplot as plt\n",
    "import seaborn as sns\n",
    "\n",
    "# This command makes charts show inline in a notebook\n",
    "%matplotlib inline"
   ]
  },
  {
   "cell_type": "code",
   "execution_count": 36,
   "metadata": {},
   "outputs": [],
   "source": [
    "import matplotlib"
   ]
  },
  {
   "cell_type": "code",
   "execution_count": 37,
   "metadata": {},
   "outputs": [
    {
     "data": {
      "text/plain": [
       "'3.0.3'"
      ]
     },
     "execution_count": 37,
     "metadata": {},
     "output_type": "execute_result"
    }
   ],
   "source": [
    "matplotlib.__version__"
   ]
  },
  {
   "cell_type": "code",
   "execution_count": 2,
   "metadata": {},
   "outputs": [
    {
     "data": {
      "text/plain": [
       "'0.24.2'"
      ]
     },
     "execution_count": 2,
     "metadata": {},
     "output_type": "execute_result"
    }
   ],
   "source": [
    "pd.__version__"
   ]
  },
  {
   "cell_type": "code",
   "execution_count": 3,
   "metadata": {},
   "outputs": [
    {
     "data": {
      "text/plain": [
       "'0.9.0'"
      ]
     },
     "execution_count": 3,
     "metadata": {},
     "output_type": "execute_result"
    }
   ],
   "source": [
    "sns.__version__"
   ]
  },
  {
   "cell_type": "markdown",
   "metadata": {},
   "source": [
    "## What is Pandas/Matplotlib/Pyplot/Seaborn\n",
    "\n",
    "- Pandas is a Python library for data manipulation and analysis. It offers data structures and operations for manipulating numerical tables and time series.\n",
    "- Matplotlib is a Python 2D plotting library. Pyplot is a collection of command style functions that make matplotlib work like MATLAB. While we mostly use Seaborn, we sometimes fall back to using Pyplot functions for certain aspects of plotting.\n",
    "- Seaborn is a Python data visualization library based on matplotlib. It's kind of like a nicer version of pyplot.\n"
   ]
  },
  {
   "cell_type": "markdown",
   "metadata": {},
   "source": [
    "# Part 1: Loading and inspecting the data\n",
    "\n",
    "Before we can start answering questions about the data we need to do a little bit of exploratory analysis.The first thing we need to do when working with a new dataset is to get an idea of what the data looks like. We start by loading the data into memory. Pandas comes with a built-in `read_csv` function that we can use to read CSV files and load them directly to a pandas `DataFrame` object. "
   ]
  },
  {
   "cell_type": "code",
   "execution_count": 4,
   "metadata": {},
   "outputs": [],
   "source": [
    "tx = pd.read_csv('./treatment_starts_2016.csv')"
   ]
  },
  {
   "cell_type": "markdown",
   "metadata": {},
   "source": [
    "## What is a DataFrame?\n",
    "A DataFrame is a 2-dimensional labeled data structure with columns of potentially different types. You can think of it like a spreadsheet or SQL table, or a dict of Series objects. It is generally the most commonly used Pandas object. \n",
    "\n",
    "Pandas borrows the concept of DataFrame from the statistical programming language R.\n",
    "\n",
    "Let's take a look at the data to familiarize ourselves with the format and data types."
   ]
  },
  {
   "cell_type": "code",
   "execution_count": 5,
   "metadata": {},
   "outputs": [
    {
     "data": {
      "text/html": [
       "<div>\n",
       "<style scoped>\n",
       "    .dataframe tbody tr th:only-of-type {\n",
       "        vertical-align: middle;\n",
       "    }\n",
       "\n",
       "    .dataframe tbody tr th {\n",
       "        vertical-align: top;\n",
       "    }\n",
       "\n",
       "    .dataframe thead th {\n",
       "        text-align: right;\n",
       "    }\n",
       "</style>\n",
       "<table border=\"1\" class=\"dataframe\">\n",
       "  <thead>\n",
       "    <tr style=\"text-align: right;\">\n",
       "      <th></th>\n",
       "      <th>PatientID</th>\n",
       "      <th>TreatmentStart</th>\n",
       "      <th>Drug</th>\n",
       "      <th>Dosage</th>\n",
       "    </tr>\n",
       "  </thead>\n",
       "  <tbody>\n",
       "    <tr>\n",
       "      <th>0</th>\n",
       "      <td>PT1</td>\n",
       "      <td>1/14/16</td>\n",
       "      <td>Cisplatin</td>\n",
       "      <td>200</td>\n",
       "    </tr>\n",
       "    <tr>\n",
       "      <th>1</th>\n",
       "      <td>PT20</td>\n",
       "      <td>1/2/16</td>\n",
       "      <td>Cisplatin</td>\n",
       "      <td>140</td>\n",
       "    </tr>\n",
       "    <tr>\n",
       "      <th>2</th>\n",
       "      <td>PT2</td>\n",
       "      <td>1/10/16</td>\n",
       "      <td>Cisplatin</td>\n",
       "      <td>180</td>\n",
       "    </tr>\n",
       "    <tr>\n",
       "      <th>3</th>\n",
       "      <td>PT3</td>\n",
       "      <td>1/24/16</td>\n",
       "      <td>Cisplatin</td>\n",
       "      <td>140</td>\n",
       "    </tr>\n",
       "    <tr>\n",
       "      <th>4</th>\n",
       "      <td>PT4</td>\n",
       "      <td>2/14/16</td>\n",
       "      <td>Cisplatin</td>\n",
       "      <td>200</td>\n",
       "    </tr>\n",
       "    <tr>\n",
       "      <th>5</th>\n",
       "      <td>PT19</td>\n",
       "      <td>2/10/16</td>\n",
       "      <td>Cisplatin</td>\n",
       "      <td>180</td>\n",
       "    </tr>\n",
       "    <tr>\n",
       "      <th>6</th>\n",
       "      <td>PT5</td>\n",
       "      <td>2/6/16</td>\n",
       "      <td>Cisplatin</td>\n",
       "      <td>190</td>\n",
       "    </tr>\n",
       "    <tr>\n",
       "      <th>7</th>\n",
       "      <td>PT6</td>\n",
       "      <td>3/1/16</td>\n",
       "      <td>Cisplatin</td>\n",
       "      <td>180</td>\n",
       "    </tr>\n",
       "    <tr>\n",
       "      <th>8</th>\n",
       "      <td>PT7</td>\n",
       "      <td>3/1/16</td>\n",
       "      <td>Cisplatin</td>\n",
       "      <td>210</td>\n",
       "    </tr>\n",
       "    <tr>\n",
       "      <th>9</th>\n",
       "      <td>PT8</td>\n",
       "      <td>3/19/16</td>\n",
       "      <td>Cisplatin</td>\n",
       "      <td>180</td>\n",
       "    </tr>\n",
       "    <tr>\n",
       "      <th>10</th>\n",
       "      <td>PT9</td>\n",
       "      <td>3/27/16</td>\n",
       "      <td>Nivolumab</td>\n",
       "      <td>240</td>\n",
       "    </tr>\n",
       "    <tr>\n",
       "      <th>11</th>\n",
       "      <td>PT10</td>\n",
       "      <td>4/7/16</td>\n",
       "      <td>Nivolumab</td>\n",
       "      <td>240</td>\n",
       "    </tr>\n",
       "    <tr>\n",
       "      <th>12</th>\n",
       "      <td>PT11</td>\n",
       "      <td>4/17/16</td>\n",
       "      <td>Cisplatin</td>\n",
       "      <td>190</td>\n",
       "    </tr>\n",
       "    <tr>\n",
       "      <th>13</th>\n",
       "      <td>PT16</td>\n",
       "      <td>4/9/16</td>\n",
       "      <td>Cisplatin</td>\n",
       "      <td>160</td>\n",
       "    </tr>\n",
       "    <tr>\n",
       "      <th>14</th>\n",
       "      <td>PT12</td>\n",
       "      <td>5/15/16</td>\n",
       "      <td>Cisplatin</td>\n",
       "      <td>1800</td>\n",
       "    </tr>\n",
       "    <tr>\n",
       "      <th>15</th>\n",
       "      <td>PT13</td>\n",
       "      <td>5/21/16</td>\n",
       "      <td>Cisplatin</td>\n",
       "      <td>180</td>\n",
       "    </tr>\n",
       "    <tr>\n",
       "      <th>16</th>\n",
       "      <td>PT14</td>\n",
       "      <td>5/3/16</td>\n",
       "      <td>Nivolumab</td>\n",
       "      <td>240</td>\n",
       "    </tr>\n",
       "    <tr>\n",
       "      <th>17</th>\n",
       "      <td>PT15</td>\n",
       "      <td>5/7/16</td>\n",
       "      <td>Nivolumab</td>\n",
       "      <td>240</td>\n",
       "    </tr>\n",
       "    <tr>\n",
       "      <th>18</th>\n",
       "      <td>PT1</td>\n",
       "      <td>6/17/16</td>\n",
       "      <td>Nivolumab</td>\n",
       "      <td>240</td>\n",
       "    </tr>\n",
       "    <tr>\n",
       "      <th>19</th>\n",
       "      <td>PT17</td>\n",
       "      <td>6/17/16</td>\n",
       "      <td>Cisplatin</td>\n",
       "      <td>160</td>\n",
       "    </tr>\n",
       "    <tr>\n",
       "      <th>20</th>\n",
       "      <td>PT18</td>\n",
       "      <td>6/3/16</td>\n",
       "      <td>Nivolumab</td>\n",
       "      <td>240</td>\n",
       "    </tr>\n",
       "    <tr>\n",
       "      <th>21</th>\n",
       "      <td>PT19</td>\n",
       "      <td>6/2/16</td>\n",
       "      <td>Nivolumab</td>\n",
       "      <td>240</td>\n",
       "    </tr>\n",
       "    <tr>\n",
       "      <th>22</th>\n",
       "      <td>PT20</td>\n",
       "      <td>6/2/16</td>\n",
       "      <td>Nivolumab</td>\n",
       "      <td>240</td>\n",
       "    </tr>\n",
       "  </tbody>\n",
       "</table>\n",
       "</div>"
      ],
      "text/plain": [
       "   PatientID TreatmentStart       Drug  Dosage\n",
       "0        PT1        1/14/16  Cisplatin     200\n",
       "1       PT20         1/2/16  Cisplatin     140\n",
       "2        PT2        1/10/16  Cisplatin     180\n",
       "3        PT3        1/24/16  Cisplatin     140\n",
       "4        PT4        2/14/16  Cisplatin     200\n",
       "5       PT19        2/10/16  Cisplatin     180\n",
       "6        PT5         2/6/16  Cisplatin     190\n",
       "7        PT6         3/1/16  Cisplatin     180\n",
       "8        PT7         3/1/16  Cisplatin     210\n",
       "9        PT8        3/19/16  Cisplatin     180\n",
       "10       PT9        3/27/16  Nivolumab     240\n",
       "11      PT10         4/7/16  Nivolumab     240\n",
       "12      PT11        4/17/16  Cisplatin     190\n",
       "13      PT16         4/9/16  Cisplatin     160\n",
       "14      PT12        5/15/16  Cisplatin    1800\n",
       "15      PT13        5/21/16  Cisplatin     180\n",
       "16      PT14         5/3/16  Nivolumab     240\n",
       "17      PT15         5/7/16  Nivolumab     240\n",
       "18       PT1        6/17/16  Nivolumab     240\n",
       "19      PT17        6/17/16  Cisplatin     160\n",
       "20      PT18         6/3/16  Nivolumab     240\n",
       "21      PT19         6/2/16  Nivolumab     240\n",
       "22      PT20         6/2/16  Nivolumab     240"
      ]
     },
     "execution_count": 5,
     "metadata": {},
     "output_type": "execute_result"
    }
   ],
   "source": [
    "# Just using the name of the dataframe will print the entire output\n",
    "# If there are two many rows, Jupyter will print the top few and bottom few rows\n",
    "tx"
   ]
  },
  {
   "cell_type": "code",
   "execution_count": 6,
   "metadata": {},
   "outputs": [
    {
     "data": {
      "text/html": [
       "<div>\n",
       "<style scoped>\n",
       "    .dataframe tbody tr th:only-of-type {\n",
       "        vertical-align: middle;\n",
       "    }\n",
       "\n",
       "    .dataframe tbody tr th {\n",
       "        vertical-align: top;\n",
       "    }\n",
       "\n",
       "    .dataframe thead th {\n",
       "        text-align: right;\n",
       "    }\n",
       "</style>\n",
       "<table border=\"1\" class=\"dataframe\">\n",
       "  <thead>\n",
       "    <tr style=\"text-align: right;\">\n",
       "      <th></th>\n",
       "      <th>PatientID</th>\n",
       "      <th>TreatmentStart</th>\n",
       "      <th>Drug</th>\n",
       "      <th>Dosage</th>\n",
       "    </tr>\n",
       "  </thead>\n",
       "  <tbody>\n",
       "    <tr>\n",
       "      <th>0</th>\n",
       "      <td>PT1</td>\n",
       "      <td>1/14/16</td>\n",
       "      <td>Cisplatin</td>\n",
       "      <td>200</td>\n",
       "    </tr>\n",
       "    <tr>\n",
       "      <th>1</th>\n",
       "      <td>PT20</td>\n",
       "      <td>1/2/16</td>\n",
       "      <td>Cisplatin</td>\n",
       "      <td>140</td>\n",
       "    </tr>\n",
       "    <tr>\n",
       "      <th>2</th>\n",
       "      <td>PT2</td>\n",
       "      <td>1/10/16</td>\n",
       "      <td>Cisplatin</td>\n",
       "      <td>180</td>\n",
       "    </tr>\n",
       "    <tr>\n",
       "      <th>3</th>\n",
       "      <td>PT3</td>\n",
       "      <td>1/24/16</td>\n",
       "      <td>Cisplatin</td>\n",
       "      <td>140</td>\n",
       "    </tr>\n",
       "    <tr>\n",
       "      <th>4</th>\n",
       "      <td>PT4</td>\n",
       "      <td>2/14/16</td>\n",
       "      <td>Cisplatin</td>\n",
       "      <td>200</td>\n",
       "    </tr>\n",
       "  </tbody>\n",
       "</table>\n",
       "</div>"
      ],
      "text/plain": [
       "  PatientID TreatmentStart       Drug  Dosage\n",
       "0       PT1        1/14/16  Cisplatin     200\n",
       "1      PT20         1/2/16  Cisplatin     140\n",
       "2       PT2        1/10/16  Cisplatin     180\n",
       "3       PT3        1/24/16  Cisplatin     140\n",
       "4       PT4        2/14/16  Cisplatin     200"
      ]
     },
     "execution_count": 6,
     "metadata": {},
     "output_type": "execute_result"
    }
   ],
   "source": [
    "# The head() function shows the first n rows in a dataframe.\n",
    "tx.head()"
   ]
  },
  {
   "cell_type": "code",
   "execution_count": 7,
   "metadata": {},
   "outputs": [
    {
     "data": {
      "text/html": [
       "<div>\n",
       "<style scoped>\n",
       "    .dataframe tbody tr th:only-of-type {\n",
       "        vertical-align: middle;\n",
       "    }\n",
       "\n",
       "    .dataframe tbody tr th {\n",
       "        vertical-align: top;\n",
       "    }\n",
       "\n",
       "    .dataframe thead th {\n",
       "        text-align: right;\n",
       "    }\n",
       "</style>\n",
       "<table border=\"1\" class=\"dataframe\">\n",
       "  <thead>\n",
       "    <tr style=\"text-align: right;\">\n",
       "      <th></th>\n",
       "      <th>PatientID</th>\n",
       "      <th>TreatmentStart</th>\n",
       "      <th>Drug</th>\n",
       "      <th>Dosage</th>\n",
       "    </tr>\n",
       "  </thead>\n",
       "  <tbody>\n",
       "    <tr>\n",
       "      <th>21</th>\n",
       "      <td>PT19</td>\n",
       "      <td>6/2/16</td>\n",
       "      <td>Nivolumab</td>\n",
       "      <td>240</td>\n",
       "    </tr>\n",
       "    <tr>\n",
       "      <th>17</th>\n",
       "      <td>PT15</td>\n",
       "      <td>5/7/16</td>\n",
       "      <td>Nivolumab</td>\n",
       "      <td>240</td>\n",
       "    </tr>\n",
       "    <tr>\n",
       "      <th>11</th>\n",
       "      <td>PT10</td>\n",
       "      <td>4/7/16</td>\n",
       "      <td>Nivolumab</td>\n",
       "      <td>240</td>\n",
       "    </tr>\n",
       "  </tbody>\n",
       "</table>\n",
       "</div>"
      ],
      "text/plain": [
       "   PatientID TreatmentStart       Drug  Dosage\n",
       "21      PT19         6/2/16  Nivolumab     240\n",
       "17      PT15         5/7/16  Nivolumab     240\n",
       "11      PT10         4/7/16  Nivolumab     240"
      ]
     },
     "execution_count": 7,
     "metadata": {},
     "output_type": "execute_result"
    }
   ],
   "source": [
    "# You can also use the sample() function to get n random rows in the dataframe\n",
    "# NOTE: sample() only works in newer versions of pandas (0.16.1 and upwards)\n",
    "tx.sample(3)"
   ]
  },
  {
   "cell_type": "code",
   "execution_count": 8,
   "metadata": {},
   "outputs": [
    {
     "data": {
      "text/plain": [
       "23"
      ]
     },
     "execution_count": 8,
     "metadata": {},
     "output_type": "execute_result"
    }
   ],
   "source": [
    "# Then len function gives us the number of rows in the dataframe\n",
    "len(tx)"
   ]
  },
  {
   "cell_type": "code",
   "execution_count": 9,
   "metadata": {},
   "outputs": [
    {
     "data": {
      "text/plain": [
       "PatientID         object\n",
       "TreatmentStart    object\n",
       "Drug              object\n",
       "Dosage             int64\n",
       "dtype: object"
      ]
     },
     "execution_count": 9,
     "metadata": {},
     "output_type": "execute_result"
    }
   ],
   "source": [
    "# The dtypes property of a dataframe shows the datatypes of every column in a dataframe.\n",
    "tx.dtypes"
   ]
  },
  {
   "cell_type": "markdown",
   "metadata": {},
   "source": [
    "## Accessing columns in a dataframe"
   ]
  },
  {
   "cell_type": "markdown",
   "metadata": {},
   "source": [
    "<span style=\"color:blue\">**Note: We will be applying `head()` to some results in this tutorial to keep the output short. When working with a real dataset, keep in mind that you might be hiding some interesting records if you always use `head()` or `sample()`!**</span>"
   ]
  },
  {
   "cell_type": "markdown",
   "metadata": {},
   "source": [
    "In Pandas, you can access a specific column using the following notation which returns a **Series** (not a dataframe) - a Series is simply a vector, aka a 1-dimensional data structure similar to a list."
   ]
  },
  {
   "cell_type": "code",
   "execution_count": 10,
   "metadata": {},
   "outputs": [
    {
     "data": {
      "text/plain": [
       "0     PT1\n",
       "1    PT20\n",
       "2     PT2\n",
       "3     PT3\n",
       "4     PT4\n",
       "Name: PatientID, dtype: object"
      ]
     },
     "execution_count": 10,
     "metadata": {},
     "output_type": "execute_result"
    }
   ],
   "source": [
    "tx.PatientID.head()"
   ]
  },
  {
   "cell_type": "code",
   "execution_count": 11,
   "metadata": {},
   "outputs": [
    {
     "data": {
      "text/plain": [
       "pandas.core.series.Series"
      ]
     },
     "execution_count": 11,
     "metadata": {},
     "output_type": "execute_result"
    }
   ],
   "source": [
    "# Check the type to show that this indeed returns a Series object\n",
    "type(tx.PatientID)"
   ]
  },
  {
   "cell_type": "code",
   "execution_count": 12,
   "metadata": {},
   "outputs": [
    {
     "data": {
      "text/plain": [
       "0     PT1\n",
       "1    PT20\n",
       "2     PT2\n",
       "3     PT3\n",
       "4     PT4\n",
       "Name: PatientID, dtype: object"
      ]
     },
     "execution_count": 12,
     "metadata": {},
     "output_type": "execute_result"
    }
   ],
   "source": [
    "# The alternative notation for accessing a column in a dataframe\n",
    "# Some people prefer the . notation, others the [] notation.\n",
    "tx['PatientID'].head()"
   ]
  },
  {
   "cell_type": "code",
   "execution_count": 13,
   "metadata": {},
   "outputs": [
    {
     "data": {
      "text/html": [
       "<div>\n",
       "<style scoped>\n",
       "    .dataframe tbody tr th:only-of-type {\n",
       "        vertical-align: middle;\n",
       "    }\n",
       "\n",
       "    .dataframe tbody tr th {\n",
       "        vertical-align: top;\n",
       "    }\n",
       "\n",
       "    .dataframe thead th {\n",
       "        text-align: right;\n",
       "    }\n",
       "</style>\n",
       "<table border=\"1\" class=\"dataframe\">\n",
       "  <thead>\n",
       "    <tr style=\"text-align: right;\">\n",
       "      <th></th>\n",
       "      <th>PatientID</th>\n",
       "      <th>TreatmentStart</th>\n",
       "    </tr>\n",
       "  </thead>\n",
       "  <tbody>\n",
       "    <tr>\n",
       "      <th>0</th>\n",
       "      <td>PT1</td>\n",
       "      <td>1/14/16</td>\n",
       "    </tr>\n",
       "    <tr>\n",
       "      <th>1</th>\n",
       "      <td>PT20</td>\n",
       "      <td>1/2/16</td>\n",
       "    </tr>\n",
       "    <tr>\n",
       "      <th>2</th>\n",
       "      <td>PT2</td>\n",
       "      <td>1/10/16</td>\n",
       "    </tr>\n",
       "    <tr>\n",
       "      <th>3</th>\n",
       "      <td>PT3</td>\n",
       "      <td>1/24/16</td>\n",
       "    </tr>\n",
       "    <tr>\n",
       "      <th>4</th>\n",
       "      <td>PT4</td>\n",
       "      <td>2/14/16</td>\n",
       "    </tr>\n",
       "  </tbody>\n",
       "</table>\n",
       "</div>"
      ],
      "text/plain": [
       "  PatientID TreatmentStart\n",
       "0       PT1        1/14/16\n",
       "1      PT20         1/2/16\n",
       "2       PT2        1/10/16\n",
       "3       PT3        1/24/16\n",
       "4       PT4        2/14/16"
      ]
     },
     "execution_count": 13,
     "metadata": {},
     "output_type": "execute_result"
    }
   ],
   "source": [
    "# And this is how you access two columns of a dataframe.\n",
    "# Note that this will return a dataframe again, not a series (because a series has only one column...)\n",
    "# Also note the double square brackets - you're passing a *list* as an argument\n",
    "tx[['PatientID', 'TreatmentStart']].head()"
   ]
  },
  {
   "cell_type": "code",
   "execution_count": 14,
   "metadata": {},
   "outputs": [
    {
     "data": {
      "text/plain": [
       "array(['PT1', 'PT20', 'PT2', 'PT3', 'PT4', 'PT19', 'PT5', 'PT6', 'PT7',\n",
       "       'PT8', 'PT9', 'PT10', 'PT11', 'PT16', 'PT12', 'PT13', 'PT14',\n",
       "       'PT15', 'PT17', 'PT18'], dtype=object)"
      ]
     },
     "execution_count": 14,
     "metadata": {},
     "output_type": "execute_result"
    }
   ],
   "source": [
    "# This way we can now do some more data exploration, e.g. getting unique patients\n",
    "tx['PatientID'].unique()"
   ]
  },
  {
   "cell_type": "code",
   "execution_count": 15,
   "metadata": {},
   "outputs": [
    {
     "data": {
      "text/plain": [
       "array(['Cisplatin', 'Nivolumab'], dtype=object)"
      ]
     },
     "execution_count": 15,
     "metadata": {},
     "output_type": "execute_result"
    }
   ],
   "source": [
    "# Or unique drugs\n",
    "tx['Drug'].unique()"
   ]
  },
  {
   "cell_type": "markdown",
   "metadata": {},
   "source": [
    "## Accessing rows in a dataframe\n",
    "In addition to slicing by column, we often want to get the record where a column has a specific value, e.g. a specific Patient_ID here. This can be done using the following syntax:"
   ]
  },
  {
   "cell_type": "code",
   "execution_count": 16,
   "metadata": {},
   "outputs": [
    {
     "data": {
      "text/html": [
       "<div>\n",
       "<style scoped>\n",
       "    .dataframe tbody tr th:only-of-type {\n",
       "        vertical-align: middle;\n",
       "    }\n",
       "\n",
       "    .dataframe tbody tr th {\n",
       "        vertical-align: top;\n",
       "    }\n",
       "\n",
       "    .dataframe thead th {\n",
       "        text-align: right;\n",
       "    }\n",
       "</style>\n",
       "<table border=\"1\" class=\"dataframe\">\n",
       "  <thead>\n",
       "    <tr style=\"text-align: right;\">\n",
       "      <th></th>\n",
       "      <th>PatientID</th>\n",
       "      <th>TreatmentStart</th>\n",
       "      <th>Drug</th>\n",
       "      <th>Dosage</th>\n",
       "    </tr>\n",
       "  </thead>\n",
       "  <tbody>\n",
       "    <tr>\n",
       "      <th>6</th>\n",
       "      <td>PT5</td>\n",
       "      <td>2/6/16</td>\n",
       "      <td>Cisplatin</td>\n",
       "      <td>190</td>\n",
       "    </tr>\n",
       "  </tbody>\n",
       "</table>\n",
       "</div>"
      ],
      "text/plain": [
       "  PatientID TreatmentStart       Drug  Dosage\n",
       "6       PT5         2/6/16  Cisplatin     190"
      ]
     },
     "execution_count": 16,
     "metadata": {},
     "output_type": "execute_result"
    }
   ],
   "source": [
    "# Access the diagnosis record(s) for a specific patient ID\n",
    "tx.loc[tx['PatientID'] == 'PT5']"
   ]
  },
  {
   "cell_type": "code",
   "execution_count": 17,
   "metadata": {},
   "outputs": [
    {
     "data": {
      "text/html": [
       "<div>\n",
       "<style scoped>\n",
       "    .dataframe tbody tr th:only-of-type {\n",
       "        vertical-align: middle;\n",
       "    }\n",
       "\n",
       "    .dataframe tbody tr th {\n",
       "        vertical-align: top;\n",
       "    }\n",
       "\n",
       "    .dataframe thead th {\n",
       "        text-align: right;\n",
       "    }\n",
       "</style>\n",
       "<table border=\"1\" class=\"dataframe\">\n",
       "  <thead>\n",
       "    <tr style=\"text-align: right;\">\n",
       "      <th></th>\n",
       "      <th>PatientID</th>\n",
       "      <th>TreatmentStart</th>\n",
       "      <th>Drug</th>\n",
       "      <th>Dosage</th>\n",
       "    </tr>\n",
       "  </thead>\n",
       "  <tbody>\n",
       "    <tr>\n",
       "      <th>1</th>\n",
       "      <td>PT20</td>\n",
       "      <td>1/2/16</td>\n",
       "      <td>Cisplatin</td>\n",
       "      <td>140</td>\n",
       "    </tr>\n",
       "    <tr>\n",
       "      <th>22</th>\n",
       "      <td>PT20</td>\n",
       "      <td>6/2/16</td>\n",
       "      <td>Nivolumab</td>\n",
       "      <td>240</td>\n",
       "    </tr>\n",
       "  </tbody>\n",
       "</table>\n",
       "</div>"
      ],
      "text/plain": [
       "   PatientID TreatmentStart       Drug  Dosage\n",
       "1       PT20         1/2/16  Cisplatin     140\n",
       "22      PT20         6/2/16  Nivolumab     240"
      ]
     },
     "execution_count": 17,
     "metadata": {},
     "output_type": "execute_result"
    }
   ],
   "source": [
    "# This is equivalent with the following shorter notation\n",
    "tx[tx['PatientID'] == 'PT20']"
   ]
  },
  {
   "cell_type": "markdown",
   "metadata": {},
   "source": [
    "There are many different ways to access rows and columns in Pandas. We're only introducing a small set here in order to keep the tutorial simple."
   ]
  },
  {
   "cell_type": "markdown",
   "metadata": {},
   "source": [
    "## Sorting dataframes\n",
    "Sorting a dataframe by one or multiple columns is super easy:"
   ]
  },
  {
   "cell_type": "code",
   "execution_count": 18,
   "metadata": {},
   "outputs": [
    {
     "data": {
      "text/html": [
       "<div>\n",
       "<style scoped>\n",
       "    .dataframe tbody tr th:only-of-type {\n",
       "        vertical-align: middle;\n",
       "    }\n",
       "\n",
       "    .dataframe tbody tr th {\n",
       "        vertical-align: top;\n",
       "    }\n",
       "\n",
       "    .dataframe thead th {\n",
       "        text-align: right;\n",
       "    }\n",
       "</style>\n",
       "<table border=\"1\" class=\"dataframe\">\n",
       "  <thead>\n",
       "    <tr style=\"text-align: right;\">\n",
       "      <th></th>\n",
       "      <th>PatientID</th>\n",
       "      <th>TreatmentStart</th>\n",
       "      <th>Drug</th>\n",
       "      <th>Dosage</th>\n",
       "    </tr>\n",
       "  </thead>\n",
       "  <tbody>\n",
       "    <tr>\n",
       "      <th>2</th>\n",
       "      <td>PT2</td>\n",
       "      <td>1/10/16</td>\n",
       "      <td>Cisplatin</td>\n",
       "      <td>180</td>\n",
       "    </tr>\n",
       "    <tr>\n",
       "      <th>0</th>\n",
       "      <td>PT1</td>\n",
       "      <td>1/14/16</td>\n",
       "      <td>Cisplatin</td>\n",
       "      <td>200</td>\n",
       "    </tr>\n",
       "    <tr>\n",
       "      <th>1</th>\n",
       "      <td>PT20</td>\n",
       "      <td>1/2/16</td>\n",
       "      <td>Cisplatin</td>\n",
       "      <td>140</td>\n",
       "    </tr>\n",
       "    <tr>\n",
       "      <th>3</th>\n",
       "      <td>PT3</td>\n",
       "      <td>1/24/16</td>\n",
       "      <td>Cisplatin</td>\n",
       "      <td>140</td>\n",
       "    </tr>\n",
       "    <tr>\n",
       "      <th>5</th>\n",
       "      <td>PT19</td>\n",
       "      <td>2/10/16</td>\n",
       "      <td>Cisplatin</td>\n",
       "      <td>180</td>\n",
       "    </tr>\n",
       "  </tbody>\n",
       "</table>\n",
       "</div>"
      ],
      "text/plain": [
       "  PatientID TreatmentStart       Drug  Dosage\n",
       "2       PT2        1/10/16  Cisplatin     180\n",
       "0       PT1        1/14/16  Cisplatin     200\n",
       "1      PT20         1/2/16  Cisplatin     140\n",
       "3       PT3        1/24/16  Cisplatin     140\n",
       "5      PT19        2/10/16  Cisplatin     180"
      ]
     },
     "execution_count": 18,
     "metadata": {},
     "output_type": "execute_result"
    }
   ],
   "source": [
    "# Sort by earliest treatment start date, i.e. in ascending order\n",
    "tx.sort_values('TreatmentStart').head()\n",
    "\n",
    "# NOTE: sort_values only works in Pandas 0.17.0 and up. This is an older version:\n",
    "# tx.sort('TreatmentStart').head()"
   ]
  },
  {
   "cell_type": "code",
   "execution_count": 19,
   "metadata": {},
   "outputs": [
    {
     "data": {
      "text/html": [
       "<div>\n",
       "<style scoped>\n",
       "    .dataframe tbody tr th:only-of-type {\n",
       "        vertical-align: middle;\n",
       "    }\n",
       "\n",
       "    .dataframe tbody tr th {\n",
       "        vertical-align: top;\n",
       "    }\n",
       "\n",
       "    .dataframe thead th {\n",
       "        text-align: right;\n",
       "    }\n",
       "</style>\n",
       "<table border=\"1\" class=\"dataframe\">\n",
       "  <thead>\n",
       "    <tr style=\"text-align: right;\">\n",
       "      <th></th>\n",
       "      <th>PatientID</th>\n",
       "      <th>TreatmentStart</th>\n",
       "      <th>Drug</th>\n",
       "      <th>Dosage</th>\n",
       "    </tr>\n",
       "  </thead>\n",
       "  <tbody>\n",
       "    <tr>\n",
       "      <th>20</th>\n",
       "      <td>PT18</td>\n",
       "      <td>6/3/16</td>\n",
       "      <td>Nivolumab</td>\n",
       "      <td>240</td>\n",
       "    </tr>\n",
       "    <tr>\n",
       "      <th>22</th>\n",
       "      <td>PT20</td>\n",
       "      <td>6/2/16</td>\n",
       "      <td>Nivolumab</td>\n",
       "      <td>240</td>\n",
       "    </tr>\n",
       "    <tr>\n",
       "      <th>21</th>\n",
       "      <td>PT19</td>\n",
       "      <td>6/2/16</td>\n",
       "      <td>Nivolumab</td>\n",
       "      <td>240</td>\n",
       "    </tr>\n",
       "    <tr>\n",
       "      <th>19</th>\n",
       "      <td>PT17</td>\n",
       "      <td>6/17/16</td>\n",
       "      <td>Cisplatin</td>\n",
       "      <td>160</td>\n",
       "    </tr>\n",
       "    <tr>\n",
       "      <th>18</th>\n",
       "      <td>PT1</td>\n",
       "      <td>6/17/16</td>\n",
       "      <td>Nivolumab</td>\n",
       "      <td>240</td>\n",
       "    </tr>\n",
       "  </tbody>\n",
       "</table>\n",
       "</div>"
      ],
      "text/plain": [
       "   PatientID TreatmentStart       Drug  Dosage\n",
       "20      PT18         6/3/16  Nivolumab     240\n",
       "22      PT20         6/2/16  Nivolumab     240\n",
       "21      PT19         6/2/16  Nivolumab     240\n",
       "19      PT17        6/17/16  Cisplatin     160\n",
       "18       PT1        6/17/16  Nivolumab     240"
      ]
     },
     "execution_count": 19,
     "metadata": {},
     "output_type": "execute_result"
    }
   ],
   "source": [
    "# Sort by latest treatment start, i.e. in descending order\n",
    "tx.sort_values('TreatmentStart', ascending=False).head()\n",
    "\n",
    "# NOTE: sort_values only works in Pandas 0.17.0 and up. This is an older version:\n",
    "# tx.sort('TreatmentStart', ascending=False).head()"
   ]
  },
  {
   "cell_type": "code",
   "execution_count": 20,
   "metadata": {},
   "outputs": [
    {
     "data": {
      "text/html": [
       "<div>\n",
       "<style scoped>\n",
       "    .dataframe tbody tr th:only-of-type {\n",
       "        vertical-align: middle;\n",
       "    }\n",
       "\n",
       "    .dataframe tbody tr th {\n",
       "        vertical-align: top;\n",
       "    }\n",
       "\n",
       "    .dataframe thead th {\n",
       "        text-align: right;\n",
       "    }\n",
       "</style>\n",
       "<table border=\"1\" class=\"dataframe\">\n",
       "  <thead>\n",
       "    <tr style=\"text-align: right;\">\n",
       "      <th></th>\n",
       "      <th>PatientID</th>\n",
       "      <th>TreatmentStart</th>\n",
       "      <th>Drug</th>\n",
       "      <th>Dosage</th>\n",
       "    </tr>\n",
       "  </thead>\n",
       "  <tbody>\n",
       "    <tr>\n",
       "      <th>0</th>\n",
       "      <td>PT1</td>\n",
       "      <td>1/14/16</td>\n",
       "      <td>Cisplatin</td>\n",
       "      <td>200</td>\n",
       "    </tr>\n",
       "    <tr>\n",
       "      <th>18</th>\n",
       "      <td>PT1</td>\n",
       "      <td>6/17/16</td>\n",
       "      <td>Nivolumab</td>\n",
       "      <td>240</td>\n",
       "    </tr>\n",
       "    <tr>\n",
       "      <th>11</th>\n",
       "      <td>PT10</td>\n",
       "      <td>4/7/16</td>\n",
       "      <td>Nivolumab</td>\n",
       "      <td>240</td>\n",
       "    </tr>\n",
       "    <tr>\n",
       "      <th>12</th>\n",
       "      <td>PT11</td>\n",
       "      <td>4/17/16</td>\n",
       "      <td>Cisplatin</td>\n",
       "      <td>190</td>\n",
       "    </tr>\n",
       "    <tr>\n",
       "      <th>14</th>\n",
       "      <td>PT12</td>\n",
       "      <td>5/15/16</td>\n",
       "      <td>Cisplatin</td>\n",
       "      <td>1800</td>\n",
       "    </tr>\n",
       "  </tbody>\n",
       "</table>\n",
       "</div>"
      ],
      "text/plain": [
       "   PatientID TreatmentStart       Drug  Dosage\n",
       "0        PT1        1/14/16  Cisplatin     200\n",
       "18       PT1        6/17/16  Nivolumab     240\n",
       "11      PT10         4/7/16  Nivolumab     240\n",
       "12      PT11        4/17/16  Cisplatin     190\n",
       "14      PT12        5/15/16  Cisplatin    1800"
      ]
     },
     "execution_count": 20,
     "metadata": {},
     "output_type": "execute_result"
    }
   ],
   "source": [
    "# Finally, you can also sort by multiple columns:\n",
    "tx.sort_values(['PatientID', 'TreatmentStart']).head()\n",
    "\n",
    "# NOTE: sort_values only works in Pandas 0.17.0 and up. This is an older version:\n",
    "# tx.sort(['PatientID', 'TreatmentStart']).head()"
   ]
  },
  {
   "cell_type": "markdown",
   "metadata": {},
   "source": [
    "<span style=\"color:blue\">**Note: Any operations on a dataframe are *not* permanent, i.e. they only modify the current output, but not the actual dataframe. If you want to preserve the sorting, for example, you have to either assign the output to a new variable, or use the `inplace=True` argument. This will not create any output but actually modify the dataframe.**</span>"
   ]
  },
  {
   "cell_type": "code",
   "execution_count": 21,
   "metadata": {},
   "outputs": [],
   "source": [
    "tx.sort_values(['PatientID', 'TreatmentStart'], inplace=True)"
   ]
  },
  {
   "cell_type": "markdown",
   "metadata": {},
   "source": [
    "# Part 2: Data cleaning"
   ]
  },
  {
   "cell_type": "code",
   "execution_count": 22,
   "metadata": {},
   "outputs": [
    {
     "data": {
      "text/plain": [
       "PatientID         object\n",
       "TreatmentStart    object\n",
       "Drug              object\n",
       "Dosage             int64\n",
       "dtype: object"
      ]
     },
     "execution_count": 22,
     "metadata": {},
     "output_type": "execute_result"
    }
   ],
   "source": [
    "# Remember the dtypes property... the TreatmentStart column should really be a date, right?\n",
    "tx.dtypes"
   ]
  },
  {
   "cell_type": "markdown",
   "metadata": {},
   "source": [
    "## Date conversion"
   ]
  },
  {
   "cell_type": "markdown",
   "metadata": {},
   "source": [
    "Right away we can see that the date field TreatmentDate is stored as string (object). It might be useful to convert it to **Datetime** objects so that we can perform common date arithmetic on them, like checking if a date came before or after another date, or calculating the number of days between two dates."
   ]
  },
  {
   "cell_type": "code",
   "execution_count": 23,
   "metadata": {},
   "outputs": [],
   "source": [
    "tx.TreatmentStart = pd.to_datetime(tx.TreatmentStart)"
   ]
  },
  {
   "cell_type": "code",
   "execution_count": 24,
   "metadata": {},
   "outputs": [
    {
     "data": {
      "text/plain": [
       "PatientID                 object\n",
       "TreatmentStart    datetime64[ns]\n",
       "Drug                      object\n",
       "Dosage                     int64\n",
       "dtype: object"
      ]
     },
     "execution_count": 24,
     "metadata": {},
     "output_type": "execute_result"
    }
   ],
   "source": [
    "tx.dtypes"
   ]
  },
  {
   "cell_type": "code",
   "execution_count": 25,
   "metadata": {},
   "outputs": [],
   "source": [
    "# This is the alternative notation to assign a value to a column in a dataframe\n",
    "tx['TreatmentStart'] = pd.to_datetime(tx.TreatmentStart)"
   ]
  },
  {
   "cell_type": "markdown",
   "metadata": {},
   "source": [
    "# Part 3: Data analysis\n",
    "Let's assume we've loaded the treatment related data from a cancer clinic in order to provide them with some analytical insights around the types of drugs they use on their patient population."
   ]
  },
  {
   "cell_type": "markdown",
   "metadata": {},
   "source": [
    "## Question 1: Patients treated at the practice\n",
    "\n",
    "**How many patients does the practice treat?**"
   ]
  },
  {
   "cell_type": "code",
   "execution_count": 26,
   "metadata": {},
   "outputs": [
    {
     "name": "stdout",
     "output_type": "stream",
     "text": [
      "Number of treatment start records: 23\n",
      "Number of unique patients who start treatment: 20\n"
     ]
    }
   ],
   "source": [
    "# Our data frame contains patient IDs and treatment starts -\n",
    "# let's check if some patients have multiple treatment starts?\n",
    "# The unique() function returns the number of unique values in a dataframe column.\n",
    "print('Number of treatment start records:', len(tx))\n",
    "print('Number of unique patients who start treatment:', len(tx.PatientID.unique()))"
   ]
  },
  {
   "cell_type": "markdown",
   "metadata": {},
   "source": [
    "So there are 20 unique patients but we have 23 treatment starts, meaning some patients start different treatments in the time that we have data for. This means that if we want to answer the question correctly, we need to make sure to only count unique patients."
   ]
  },
  {
   "cell_type": "code",
   "execution_count": 27,
   "metadata": {},
   "outputs": [
    {
     "data": {
      "text/html": [
       "<div>\n",
       "<style scoped>\n",
       "    .dataframe tbody tr th:only-of-type {\n",
       "        vertical-align: middle;\n",
       "    }\n",
       "\n",
       "    .dataframe tbody tr th {\n",
       "        vertical-align: top;\n",
       "    }\n",
       "\n",
       "    .dataframe thead th {\n",
       "        text-align: right;\n",
       "    }\n",
       "</style>\n",
       "<table border=\"1\" class=\"dataframe\">\n",
       "  <thead>\n",
       "    <tr style=\"text-align: right;\">\n",
       "      <th></th>\n",
       "      <th>TreatmentStart</th>\n",
       "    </tr>\n",
       "    <tr>\n",
       "      <th>PatientID</th>\n",
       "      <th></th>\n",
       "    </tr>\n",
       "  </thead>\n",
       "  <tbody>\n",
       "    <tr>\n",
       "      <th>PT1</th>\n",
       "      <td>2</td>\n",
       "    </tr>\n",
       "    <tr>\n",
       "      <th>PT10</th>\n",
       "      <td>1</td>\n",
       "    </tr>\n",
       "    <tr>\n",
       "      <th>PT11</th>\n",
       "      <td>1</td>\n",
       "    </tr>\n",
       "    <tr>\n",
       "      <th>PT12</th>\n",
       "      <td>1</td>\n",
       "    </tr>\n",
       "    <tr>\n",
       "      <th>PT13</th>\n",
       "      <td>1</td>\n",
       "    </tr>\n",
       "    <tr>\n",
       "      <th>PT14</th>\n",
       "      <td>1</td>\n",
       "    </tr>\n",
       "    <tr>\n",
       "      <th>PT15</th>\n",
       "      <td>1</td>\n",
       "    </tr>\n",
       "    <tr>\n",
       "      <th>PT16</th>\n",
       "      <td>1</td>\n",
       "    </tr>\n",
       "    <tr>\n",
       "      <th>PT17</th>\n",
       "      <td>1</td>\n",
       "    </tr>\n",
       "    <tr>\n",
       "      <th>PT18</th>\n",
       "      <td>1</td>\n",
       "    </tr>\n",
       "    <tr>\n",
       "      <th>PT19</th>\n",
       "      <td>2</td>\n",
       "    </tr>\n",
       "    <tr>\n",
       "      <th>PT2</th>\n",
       "      <td>1</td>\n",
       "    </tr>\n",
       "    <tr>\n",
       "      <th>PT20</th>\n",
       "      <td>2</td>\n",
       "    </tr>\n",
       "    <tr>\n",
       "      <th>PT3</th>\n",
       "      <td>1</td>\n",
       "    </tr>\n",
       "    <tr>\n",
       "      <th>PT4</th>\n",
       "      <td>1</td>\n",
       "    </tr>\n",
       "    <tr>\n",
       "      <th>PT5</th>\n",
       "      <td>1</td>\n",
       "    </tr>\n",
       "    <tr>\n",
       "      <th>PT6</th>\n",
       "      <td>1</td>\n",
       "    </tr>\n",
       "    <tr>\n",
       "      <th>PT7</th>\n",
       "      <td>1</td>\n",
       "    </tr>\n",
       "    <tr>\n",
       "      <th>PT8</th>\n",
       "      <td>1</td>\n",
       "    </tr>\n",
       "    <tr>\n",
       "      <th>PT9</th>\n",
       "      <td>1</td>\n",
       "    </tr>\n",
       "  </tbody>\n",
       "</table>\n",
       "</div>"
      ],
      "text/plain": [
       "           TreatmentStart\n",
       "PatientID                \n",
       "PT1                     2\n",
       "PT10                    1\n",
       "PT11                    1\n",
       "PT12                    1\n",
       "PT13                    1\n",
       "PT14                    1\n",
       "PT15                    1\n",
       "PT16                    1\n",
       "PT17                    1\n",
       "PT18                    1\n",
       "PT19                    2\n",
       "PT2                     1\n",
       "PT20                    2\n",
       "PT3                     1\n",
       "PT4                     1\n",
       "PT5                     1\n",
       "PT6                     1\n",
       "PT7                     1\n",
       "PT8                     1\n",
       "PT9                     1"
      ]
     },
     "execution_count": 27,
     "metadata": {},
     "output_type": "execute_result"
    }
   ],
   "source": [
    "# Let's count how often each patient occurs in the data\n",
    "tx.groupby('PatientID').count()[['TreatmentStart']]\n",
    "\n",
    "# This shows us that 3 patients in the data have 2 treatment starts each\n",
    "# Since patients can switch treatment, this is not necessarily a bug!"
   ]
  },
  {
   "cell_type": "markdown",
   "metadata": {},
   "source": [
    "## Question 2: Drugs used at the practice\n",
    "**What are the drugs used at the practice and how many patients receive those drugs?**"
   ]
  },
  {
   "cell_type": "code",
   "execution_count": 28,
   "metadata": {
    "scrolled": true
   },
   "outputs": [
    {
     "data": {
      "text/html": [
       "<div>\n",
       "<style scoped>\n",
       "    .dataframe tbody tr th:only-of-type {\n",
       "        vertical-align: middle;\n",
       "    }\n",
       "\n",
       "    .dataframe tbody tr th {\n",
       "        vertical-align: top;\n",
       "    }\n",
       "\n",
       "    .dataframe thead th {\n",
       "        text-align: right;\n",
       "    }\n",
       "</style>\n",
       "<table border=\"1\" class=\"dataframe\">\n",
       "  <thead>\n",
       "    <tr style=\"text-align: right;\">\n",
       "      <th></th>\n",
       "      <th>PatientID</th>\n",
       "      <th>TreatmentStart</th>\n",
       "      <th>Dosage</th>\n",
       "    </tr>\n",
       "    <tr>\n",
       "      <th>Drug</th>\n",
       "      <th></th>\n",
       "      <th></th>\n",
       "      <th></th>\n",
       "    </tr>\n",
       "  </thead>\n",
       "  <tbody>\n",
       "    <tr>\n",
       "      <th>Cisplatin</th>\n",
       "      <td>15</td>\n",
       "      <td>15</td>\n",
       "      <td>15</td>\n",
       "    </tr>\n",
       "    <tr>\n",
       "      <th>Nivolumab</th>\n",
       "      <td>8</td>\n",
       "      <td>8</td>\n",
       "      <td>8</td>\n",
       "    </tr>\n",
       "  </tbody>\n",
       "</table>\n",
       "</div>"
      ],
      "text/plain": [
       "           PatientID  TreatmentStart  Dosage\n",
       "Drug                                        \n",
       "Cisplatin         15              15      15\n",
       "Nivolumab          8               8       8"
      ]
     },
     "execution_count": 28,
     "metadata": {},
     "output_type": "execute_result"
    }
   ],
   "source": [
    "# The groupby function works like a groupby in SQL, i.e. it groups the dataframe by the specified\n",
    "# column and then lets you apply aggregate functions on the grouped values, e.g. counts, sums, means...\n",
    "# The count function counts the number of rows with values in a column\n",
    "# NOTE that this might include duplicates!!! (Not in this data...)\n",
    "tx.groupby('Drug').count()"
   ]
  },
  {
   "cell_type": "code",
   "execution_count": 29,
   "metadata": {},
   "outputs": [
    {
     "data": {
      "text/html": [
       "<div>\n",
       "<style scoped>\n",
       "    .dataframe tbody tr th:only-of-type {\n",
       "        vertical-align: middle;\n",
       "    }\n",
       "\n",
       "    .dataframe tbody tr th {\n",
       "        vertical-align: top;\n",
       "    }\n",
       "\n",
       "    .dataframe thead th {\n",
       "        text-align: right;\n",
       "    }\n",
       "</style>\n",
       "<table border=\"1\" class=\"dataframe\">\n",
       "  <thead>\n",
       "    <tr style=\"text-align: right;\">\n",
       "      <th></th>\n",
       "      <th>PatientID</th>\n",
       "    </tr>\n",
       "    <tr>\n",
       "      <th>Drug</th>\n",
       "      <th></th>\n",
       "    </tr>\n",
       "  </thead>\n",
       "  <tbody>\n",
       "    <tr>\n",
       "      <th>Cisplatin</th>\n",
       "      <td>15</td>\n",
       "    </tr>\n",
       "    <tr>\n",
       "      <th>Nivolumab</th>\n",
       "      <td>8</td>\n",
       "    </tr>\n",
       "  </tbody>\n",
       "</table>\n",
       "</div>"
      ],
      "text/plain": [
       "           PatientID\n",
       "Drug                \n",
       "Cisplatin         15\n",
       "Nivolumab          8"
      ]
     },
     "execution_count": 29,
     "metadata": {},
     "output_type": "execute_result"
    }
   ],
   "source": [
    "# Since we are only interested in the number of patients, \n",
    "# we select only the relevant column from the resulting dataframe\n",
    "# Note that \"PatientID\" might not be the best name for this column\n",
    "# - we can use a rename() function in Pandas to rename it to something like\n",
    "# \"PatientCount\" (skipping the rename step in this tutorial, but feel free to look it up!)\n",
    "tx.groupby('Drug').count()[['PatientID']]"
   ]
  },
  {
   "cell_type": "markdown",
   "metadata": {},
   "source": [
    "### A little bit about indexes in dataframes\n",
    "Notice that in the above example, the \"Drug\" column is printed in bold. That's because grouping by it has turned it into the **index** of the resulting dataframe.\n",
    "\n",
    "The index in a dataframe is the \"row identifier\" - it is generally printed as the column on the left. For example, when we first loaded our data, the index didn't have a name and was just an incrementing integer (scroll up to check!). When you create a groupby object, the index of a resulting dataframe will be the column you group by - in this case, the Drug column became the index.\n",
    "\n",
    "We frequently **reset** the index in a dataframe for various reasons - in this case, because the index contains data that you want to treat as a column, e.g. for plotting."
   ]
  },
  {
   "cell_type": "code",
   "execution_count": 30,
   "metadata": {},
   "outputs": [
    {
     "data": {
      "text/html": [
       "<div>\n",
       "<style scoped>\n",
       "    .dataframe tbody tr th:only-of-type {\n",
       "        vertical-align: middle;\n",
       "    }\n",
       "\n",
       "    .dataframe tbody tr th {\n",
       "        vertical-align: top;\n",
       "    }\n",
       "\n",
       "    .dataframe thead th {\n",
       "        text-align: right;\n",
       "    }\n",
       "</style>\n",
       "<table border=\"1\" class=\"dataframe\">\n",
       "  <thead>\n",
       "    <tr style=\"text-align: right;\">\n",
       "      <th></th>\n",
       "      <th>Drug</th>\n",
       "      <th>PatientID</th>\n",
       "    </tr>\n",
       "  </thead>\n",
       "  <tbody>\n",
       "    <tr>\n",
       "      <th>0</th>\n",
       "      <td>Cisplatin</td>\n",
       "      <td>15</td>\n",
       "    </tr>\n",
       "    <tr>\n",
       "      <th>1</th>\n",
       "      <td>Nivolumab</td>\n",
       "      <td>8</td>\n",
       "    </tr>\n",
       "  </tbody>\n",
       "</table>\n",
       "</div>"
      ],
      "text/plain": [
       "        Drug  PatientID\n",
       "0  Cisplatin         15\n",
       "1  Nivolumab          8"
      ]
     },
     "execution_count": 30,
     "metadata": {},
     "output_type": "execute_result"
    }
   ],
   "source": [
    "# Reset the index in this resulting dataframe to see what happens:\n",
    "tx.groupby('Drug').count()[['PatientID']].reset_index()"
   ]
  },
  {
   "cell_type": "code",
   "execution_count": 31,
   "metadata": {},
   "outputs": [
    {
     "data": {
      "text/html": [
       "<div>\n",
       "<style scoped>\n",
       "    .dataframe tbody tr th:only-of-type {\n",
       "        vertical-align: middle;\n",
       "    }\n",
       "\n",
       "    .dataframe tbody tr th {\n",
       "        vertical-align: top;\n",
       "    }\n",
       "\n",
       "    .dataframe thead th {\n",
       "        text-align: right;\n",
       "    }\n",
       "</style>\n",
       "<table border=\"1\" class=\"dataframe\">\n",
       "  <thead>\n",
       "    <tr style=\"text-align: right;\">\n",
       "      <th></th>\n",
       "      <th>PatientID</th>\n",
       "      <th>TreatmentStart</th>\n",
       "      <th>Drug</th>\n",
       "      <th>Dosage</th>\n",
       "    </tr>\n",
       "  </thead>\n",
       "  <tbody>\n",
       "    <tr>\n",
       "      <th>0</th>\n",
       "      <td>PT1</td>\n",
       "      <td>2016-01-14</td>\n",
       "      <td>Cisplatin</td>\n",
       "      <td>200</td>\n",
       "    </tr>\n",
       "    <tr>\n",
       "      <th>18</th>\n",
       "      <td>PT1</td>\n",
       "      <td>2016-06-17</td>\n",
       "      <td>Nivolumab</td>\n",
       "      <td>240</td>\n",
       "    </tr>\n",
       "    <tr>\n",
       "      <th>11</th>\n",
       "      <td>PT10</td>\n",
       "      <td>2016-04-07</td>\n",
       "      <td>Nivolumab</td>\n",
       "      <td>240</td>\n",
       "    </tr>\n",
       "    <tr>\n",
       "      <th>12</th>\n",
       "      <td>PT11</td>\n",
       "      <td>2016-04-17</td>\n",
       "      <td>Cisplatin</td>\n",
       "      <td>190</td>\n",
       "    </tr>\n",
       "    <tr>\n",
       "      <th>14</th>\n",
       "      <td>PT12</td>\n",
       "      <td>2016-05-15</td>\n",
       "      <td>Cisplatin</td>\n",
       "      <td>1800</td>\n",
       "    </tr>\n",
       "  </tbody>\n",
       "</table>\n",
       "</div>"
      ],
      "text/plain": [
       "   PatientID TreatmentStart       Drug  Dosage\n",
       "0        PT1     2016-01-14  Cisplatin     200\n",
       "18       PT1     2016-06-17  Nivolumab     240\n",
       "11      PT10     2016-04-07  Nivolumab     240\n",
       "12      PT11     2016-04-17  Cisplatin     190\n",
       "14      PT12     2016-05-15  Cisplatin    1800"
      ]
     },
     "execution_count": 31,
     "metadata": {},
     "output_type": "execute_result"
    }
   ],
   "source": [
    "# Remember that any operations on the dataframe only modify the output? \n",
    "# We didn't *really* group tx or reset the index. \n",
    "# The tx dataframe is still the same it was at the beginning:\n",
    "tx.head()"
   ]
  },
  {
   "cell_type": "markdown",
   "metadata": {},
   "source": [
    "### Let's plot this! (aka our first Seaborn plot)"
   ]
  },
  {
   "cell_type": "code",
   "execution_count": 32,
   "metadata": {},
   "outputs": [
    {
     "data": {
      "image/png": "[encoded data removed]",
      "text/plain": [
       "<Figure size 432x288 with 1 Axes>"
      ]
     },
     "metadata": {
      "needs_background": "light"
     },
     "output_type": "display_data"
    }
   ],
   "source": [
    "# Let's do the same groupby as above to get the number of patient starts per drug!\n",
    "# This time, we actually assign the output to a new dataframe to make the transformation permanent!\n",
    "counts = tx.groupby('Drug').count()[['PatientID']].reset_index()\n",
    "\n",
    "# Let's use a simple bar chart in Seaborn to compare counts for the two drugs\n",
    "# There are several different ways to do the plotting - this is my preferred style,\n",
    "# but you might prefer different syntax\n",
    "fig = sns.barplot(data=counts, x='Drug', y='PatientID')\n",
    "plt.title('Number of patients by drug')\n",
    "plt.ylabel('Number of patients')\n",
    "plt.xlabel('Drug')\n",
    "plt.show(fig)"
   ]
  },
  {
   "cell_type": "markdown",
   "metadata": {},
   "source": [
    "## Question 3: Changes to treatment over time\n",
    "**Do we see any changes in treatment patterns over time?**\n",
    "\n",
    "Our data shows treatment starts by date. Let's group these starts by month to see if there are any changes of how many patients start on a given drug over time, e.g. because a new drug got approved.\n",
    "\n",
    "*Note that the data we're using here is dummy data and pretty artificial - oncology clinics see a much higher volume of patients, and drug uptake is usually slower than shown here.*"
   ]
  },
  {
   "cell_type": "code",
   "execution_count": 33,
   "metadata": {},
   "outputs": [
    {
     "data": {
      "text/html": [
       "<div>\n",
       "<style scoped>\n",
       "    .dataframe tbody tr th:only-of-type {\n",
       "        vertical-align: middle;\n",
       "    }\n",
       "\n",
       "    .dataframe tbody tr th {\n",
       "        vertical-align: top;\n",
       "    }\n",
       "\n",
       "    .dataframe thead th {\n",
       "        text-align: right;\n",
       "    }\n",
       "</style>\n",
       "<table border=\"1\" class=\"dataframe\">\n",
       "  <thead>\n",
       "    <tr style=\"text-align: right;\">\n",
       "      <th></th>\n",
       "      <th>PatientID</th>\n",
       "      <th>TreatmentStart</th>\n",
       "      <th>Drug</th>\n",
       "      <th>Dosage</th>\n",
       "      <th>TreatmentStartMonth</th>\n",
       "    </tr>\n",
       "  </thead>\n",
       "  <tbody>\n",
       "    <tr>\n",
       "      <th>0</th>\n",
       "      <td>PT1</td>\n",
       "      <td>2016-01-14</td>\n",
       "      <td>Cisplatin</td>\n",
       "      <td>200</td>\n",
       "      <td>2016-01-01</td>\n",
       "    </tr>\n",
       "    <tr>\n",
       "      <th>18</th>\n",
       "      <td>PT1</td>\n",
       "      <td>2016-06-17</td>\n",
       "      <td>Nivolumab</td>\n",
       "      <td>240</td>\n",
       "      <td>2016-06-01</td>\n",
       "    </tr>\n",
       "    <tr>\n",
       "      <th>11</th>\n",
       "      <td>PT10</td>\n",
       "      <td>2016-04-07</td>\n",
       "      <td>Nivolumab</td>\n",
       "      <td>240</td>\n",
       "      <td>2016-04-01</td>\n",
       "    </tr>\n",
       "    <tr>\n",
       "      <th>12</th>\n",
       "      <td>PT11</td>\n",
       "      <td>2016-04-17</td>\n",
       "      <td>Cisplatin</td>\n",
       "      <td>190</td>\n",
       "      <td>2016-04-01</td>\n",
       "    </tr>\n",
       "    <tr>\n",
       "      <th>14</th>\n",
       "      <td>PT12</td>\n",
       "      <td>2016-05-15</td>\n",
       "      <td>Cisplatin</td>\n",
       "      <td>1800</td>\n",
       "      <td>2016-05-01</td>\n",
       "    </tr>\n",
       "  </tbody>\n",
       "</table>\n",
       "</div>"
      ],
      "text/plain": [
       "   PatientID TreatmentStart       Drug  Dosage TreatmentStartMonth\n",
       "0        PT1     2016-01-14  Cisplatin     200          2016-01-01\n",
       "18       PT1     2016-06-17  Nivolumab     240          2016-06-01\n",
       "11      PT10     2016-04-07  Nivolumab     240          2016-04-01\n",
       "12      PT11     2016-04-17  Cisplatin     190          2016-04-01\n",
       "14      PT12     2016-05-15  Cisplatin    1800          2016-05-01"
      ]
     },
     "execution_count": 33,
     "metadata": {},
     "output_type": "execute_result"
    }
   ],
   "source": [
    "# Let's add a new column that only has the treatment month to simplify things\n",
    "# There are many different ways to do this, we picked a simple one\n",
    "# tx['TreatmentStartMonth'] = tx['TreatmentStart'].astype('datetime64[M]')\n",
    "\n",
    "# NOTE .astype('datetime64[M]') only works in more recent versions of Pandas, this is an older version:\n",
    "from datetime import datetime\n",
    "tx['TreatmentStartMonth'] = tx['TreatmentStart'].apply(lambda x: x.replace(day=1))\n",
    "\n",
    "tx.head()"
   ]
  },
  {
   "cell_type": "code",
   "execution_count": 34,
   "metadata": {},
   "outputs": [
    {
     "data": {
      "text/html": [
       "<div>\n",
       "<style scoped>\n",
       "    .dataframe tbody tr th:only-of-type {\n",
       "        vertical-align: middle;\n",
       "    }\n",
       "\n",
       "    .dataframe tbody tr th {\n",
       "        vertical-align: top;\n",
       "    }\n",
       "\n",
       "    .dataframe thead th {\n",
       "        text-align: right;\n",
       "    }\n",
       "</style>\n",
       "<table border=\"1\" class=\"dataframe\">\n",
       "  <thead>\n",
       "    <tr style=\"text-align: right;\">\n",
       "      <th></th>\n",
       "      <th></th>\n",
       "      <th>PatientID</th>\n",
       "    </tr>\n",
       "    <tr>\n",
       "      <th>TreatmentStartMonth</th>\n",
       "      <th>Drug</th>\n",
       "      <th></th>\n",
       "    </tr>\n",
       "  </thead>\n",
       "  <tbody>\n",
       "    <tr>\n",
       "      <th>2016-01-01</th>\n",
       "      <th>Cisplatin</th>\n",
       "      <td>4</td>\n",
       "    </tr>\n",
       "    <tr>\n",
       "      <th>2016-02-01</th>\n",
       "      <th>Cisplatin</th>\n",
       "      <td>3</td>\n",
       "    </tr>\n",
       "    <tr>\n",
       "      <th rowspan=\"2\" valign=\"top\">2016-03-01</th>\n",
       "      <th>Cisplatin</th>\n",
       "      <td>3</td>\n",
       "    </tr>\n",
       "    <tr>\n",
       "      <th>Nivolumab</th>\n",
       "      <td>1</td>\n",
       "    </tr>\n",
       "    <tr>\n",
       "      <th rowspan=\"2\" valign=\"top\">2016-04-01</th>\n",
       "      <th>Cisplatin</th>\n",
       "      <td>2</td>\n",
       "    </tr>\n",
       "    <tr>\n",
       "      <th>Nivolumab</th>\n",
       "      <td>1</td>\n",
       "    </tr>\n",
       "    <tr>\n",
       "      <th rowspan=\"2\" valign=\"top\">2016-05-01</th>\n",
       "      <th>Cisplatin</th>\n",
       "      <td>2</td>\n",
       "    </tr>\n",
       "    <tr>\n",
       "      <th>Nivolumab</th>\n",
       "      <td>2</td>\n",
       "    </tr>\n",
       "    <tr>\n",
       "      <th rowspan=\"2\" valign=\"top\">2016-06-01</th>\n",
       "      <th>Cisplatin</th>\n",
       "      <td>1</td>\n",
       "    </tr>\n",
       "    <tr>\n",
       "      <th>Nivolumab</th>\n",
       "      <td>4</td>\n",
       "    </tr>\n",
       "  </tbody>\n",
       "</table>\n",
       "</div>"
      ],
      "text/plain": [
       "                               PatientID\n",
       "TreatmentStartMonth Drug                \n",
       "2016-01-01          Cisplatin          4\n",
       "2016-02-01          Cisplatin          3\n",
       "2016-03-01          Cisplatin          3\n",
       "                    Nivolumab          1\n",
       "2016-04-01          Cisplatin          2\n",
       "                    Nivolumab          1\n",
       "2016-05-01          Cisplatin          2\n",
       "                    Nivolumab          2\n",
       "2016-06-01          Cisplatin          1\n",
       "                    Nivolumab          4"
      ]
     },
     "execution_count": 34,
     "metadata": {},
     "output_type": "execute_result"
    }
   ],
   "source": [
    "# Let's count the number of starts per month per drug to plot it later\n",
    "# We only want the number of patients, so we filter for that column at the end\n",
    "drugs_by_month = tx.groupby(['TreatmentStartMonth', 'Drug']).count()[['PatientID']]\n",
    "drugs_by_month"
   ]
  },
  {
   "cell_type": "code",
   "execution_count": 35,
   "metadata": {},
   "outputs": [
    {
     "name": "stderr",
     "output_type": "stream",
     "text": [
      "/miniconda3/envs/jupyter_env/lib/python3.6/site-packages/pandas/plotting/_converter.py:129: FutureWarning: Using an implicitly registered datetime converter for a matplotlib plotting method. The converter was registered by pandas on import. Future versions of pandas will require you to explicitly register matplotlib converters.\n",
      "\n",
      "To register the converters:\n",
      "\t>>> from pandas.plotting import register_matplotlib_converters\n",
      "\t>>> register_matplotlib_converters()\n",
      "  warnings.warn(msg, FutureWarning)\n"
     ]
    },
    {
     "data": {
      "image/png": "[encoded data removed]",
      "text/plain": [
       "<Figure size 432x288 with 1 Axes>"
      ]
     },
     "metadata": {
      "needs_background": "light"
     },
     "output_type": "display_data"
    }
   ],
   "source": [
    "# The data already looks interesting... let's plot this \n",
    "# Remember to reset_index so we can plot the regular columns\n",
    "# The \"hue\" keyword is generally used to distinguish two different categorial variables\n",
    "# in plots, e.g. in this case the two different drugs\n",
    "# NOTE: lineplot() only exists in Seaborn version 0.9 and up\n",
    "fig = sns.lineplot(data=drugs_by_month.reset_index(), x='TreatmentStartMonth', y='PatientID', hue='Drug')"
   ]
  },
  {
   "cell_type": "markdown",
   "metadata": {},
   "source": [
    "# Part 4: Summary!"
   ]
  },
  {
   "cell_type": "markdown",
   "metadata": {},
   "source": [
    "We hope this workshop was useful for you. We've only touched on some of the basic concepts of pandas, but we believe this will give you the foundations to keep exploring the data! We covered:\n",
    "\n",
    "- Dataframes and series in pandas\n",
    "- Basic data inspection (head, describe, dtypes, accessing columns and rows, sorting)\n",
    "- Grouping and aggregating (count, nunique)\n",
    "- Indexing in dataframes and reset_index\n",
    "- Plotting (bar plots, line plots)\n",
    "\n",
    "**What we didn't learn:**\n",
    "\n",
    "This is my (biased) list of very frequent Pandas operations that we didn't cover but you'll likely need for data analysis:\n",
    "- Joining/merging multiple dataframes\n",
    "- Filtering and de-duplicating dataframes\n",
    "- More complex modifications of column values, e.g. filling null values, using lambda functions\n",
    "- More complex aggregates on grouped dataframes (sum, mean, etc)\n",
    "- Renaming columns (e.g. renaming an aggregate \"PatientID\" column to something more meaningful like \"PatientCount\")"
   ]
  }
 ],
 "metadata": {
  "hide_input": false,
  "kernelspec": {
   "display_name": "Python 3",
   "language": "python",
   "name": "python3"
  },
  "language_info": {
   "codemirror_mode": {
    "name": "ipython",
    "version": 3
   },
   "file_extension": ".py",
   "mimetype": "text/x-python",
   "name": "python",
   "nbconvert_exporter": "python",
   "pygments_lexer": "ipython3",
   "version": "3.6.8"
  }
 },
 "nbformat": 4,
 "nbformat_minor": 2
}
